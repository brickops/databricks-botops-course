{
 "cells": [
  {
   "cell_type": "markdown",
   "metadata": {
    "application/vnd.databricks.v1+cell": {
     "cellMetadata": {},
     "inputWidgets": {},
     "nuid": "0b3c2462-8580-42bc-8810-0362d114e408",
     "showTitle": false,
     "tableResultSettingsMap": {},
     "title": ""
    }
   },
   "source": [
    "# Setup Genie Space, service principal and save secrets"
   ]
  },
  {
   "cell_type": "markdown",
   "metadata": {
    "application/vnd.databricks.v1+cell": {
     "cellMetadata": {},
     "inputWidgets": {},
     "nuid": "0ac7f65b-f5e0-479a-b7cb-d6bac8ad9d35",
     "showTitle": false,
     "tableResultSettingsMap": {},
     "title": ""
    }
   },
   "source": [
    "\n",
    "1. Manually create a genie space with the four revenue tables\n",
    "2. Create service principal permissions to this space\n",
    "3. Copy the current databricks host\n",
    "4. Store the secrets"
   ]
  },
  {
   "cell_type": "code",
   "execution_count": 0,
   "metadata": {
    "application/vnd.databricks.v1+cell": {
     "cellMetadata": {
      "byteLimit": 2048000,
      "rowLimit": 10000
     },
     "inputWidgets": {},
     "nuid": "f01c1cbb-d71c-4a23-a22f-8f549857d591",
     "showTitle": false,
     "tableResultSettingsMap": {},
     "title": ""
    }
   },
   "outputs": [],
   "source": [
    "import requests\n",
    "import os\n",
    "\n",
    "# Set your Databricks workspace URL and token\n",
    "DATABRICKS_URL = dbutils.notebook.entry_point.getDbutils().notebook().getContext().apiUrl().get()\n",
    "DATABRICKS_TOKEN = dbutils.notebook.entry_point.getDbutils().notebook().getContext().apiToken().get()\n",
    "SCOPE = \"botops\"\n",
    "\n",
    "\n",
    "def save_secret(scope, key, value):\n",
    "    response = requests.post(\n",
    "        f\"{DATABRICKS_URL}/api/2.0/secrets/put\",\n",
    "        headers={\"Authorization\": f\"Bearer {DATABRICKS_TOKEN}\"},\n",
    "        json={\"scope\": scope, \"key\": key, \"string_value\": value}\n",
    "    )\n",
    "    response.raise_for_status()"
   ]
  },
  {
   "cell_type": "code",
   "execution_count": 0,
   "metadata": {
    "application/vnd.databricks.v1+cell": {
     "cellMetadata": {},
     "inputWidgets": {},
     "nuid": "a6bb0086-755d-4e77-92c8-2b7d46f7acb8",
     "showTitle": false,
     "tableResultSettingsMap": {},
     "title": ""
    }
   },
   "outputs": [],
   "source": [
    "# Create a secret scope\n",
    "response = requests.post(\n",
    "        f\"{DATABRICKS_URL}/api/2.0/secrets/scopes/create\",\n",
    "        headers={\"Authorization\": f\"Bearer {DATABRICKS_TOKEN}\"},\n",
    "        json={\"scope\": SCOPE}\n",
    ")\n",
    "response.raise_for_status()"
   ]
  },
  {
   "cell_type": "code",
   "execution_count": 0,
   "metadata": {
    "application/vnd.databricks.v1+cell": {
     "cellMetadata": {
      "byteLimit": 2048000,
      "rowLimit": 10000
     },
     "inputWidgets": {},
     "nuid": "7dc59fcb-12b5-4b5f-8496-1abb4df581c9",
     "showTitle": false,
     "tableResultSettingsMap": {},
     "title": ""
    }
   },
   "outputs": [],
   "source": [
    "#  Define values for these\n",
    "genie_space_id = \n",
    "databricks_host = \n",
    "# service_principal_secret = \n",
    "# service_principal_client_id = "
   ]
  },
  {
   "cell_type": "code",
   "execution_count": 0,
   "metadata": {
    "application/vnd.databricks.v1+cell": {
     "cellMetadata": {
      "byteLimit": 2048000,
      "rowLimit": 10000
     },
     "inputWidgets": {},
     "nuid": "ce5de9a1-5813-4645-958c-f3faea8bc1dc",
     "showTitle": false,
     "tableResultSettingsMap": {},
     "title": ""
    }
   },
   "outputs": [],
   "source": [
    "save_secret(SCOPE, \"botopsgenie_geniespace_id\", genie_space_id)\n",
    "save_secret(SCOPE, \"botopsgenie_databricks_host\", databricks_host)\n",
    "save_secret(SCOPE, \"botopsgenie_service_principal_id\", service_principal_id)\n",
    "save_secret(SCOPE, \"botopsgenie_service_secret\", service_principal_secret)"
   ]
  },
  {
   "cell_type": "code",
   "execution_count": 0,
   "metadata": {
    "application/vnd.databricks.v1+cell": {
     "cellMetadata": {},
     "inputWidgets": {},
     "nuid": "15a5398f-e19d-44bc-97e7-177e7b70496d",
     "showTitle": false,
     "tableResultSettingsMap": {},
     "title": ""
    }
   },
   "outputs": [],
   "source": []
  }
 ],
 "metadata": {
  "application/vnd.databricks.v1+notebook": {
   "computePreferences": null,
   "dashboards": [],
   "environmentMetadata": {
    "base_environment": "",
    "environment_version": "2"
   },
   "inputWidgetPreferences": null,
   "language": "python",
   "notebookMetadata": {
    "pythonIndentUnit": 4
   },
   "notebookName": "01-setup",
   "widgets": {}
  },
  "language_info": {
   "name": "python"
  }
 },
 "nbformat": 4,
 "nbformat_minor": 0
}
