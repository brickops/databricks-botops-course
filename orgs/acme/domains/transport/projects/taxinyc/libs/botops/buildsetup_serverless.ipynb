{
 "cells": [
  {
   "cell_type": "code",
   "execution_count": 0,
   "metadata": {
    "application/vnd.databricks.v1+cell": {
     "cellMetadata": {},
     "inputWidgets": {},
     "nuid": "0b9f92e0-1e11-47a4-9fa1-29288b7458b4",
     "showTitle": false,
     "tableResultSettingsMap": {},
     "title": ""
    }
   },
   "outputs": [],
   "source": [
    "# Install dependencies\n",
    "# Agent libs used to deploy to databricks\n",
    "%pip install -U -qqqq mlflow backoff databricks-openai databricks-agents uv"
   ]
  },
  {
   "cell_type": "code",
   "execution_count": 0,
   "metadata": {
    "application/vnd.databricks.v1+cell": {
     "cellMetadata": {
      "byteLimit": 2048000,
      "rowLimit": 10000
     },
     "inputWidgets": {},
     "nuid": "65fc10a5-5c51-4afb-824e-3cc62b33c025",
     "showTitle": false,
     "tableResultSettingsMap": {},
     "title": ""
    }
   },
   "outputs": [],
   "source": [
    "# For reference, working versions for installation:\n",
    "# %md\n",
    "# ``````bash\n",
    "# Collecting brickops==0.3.16\n",
    "#   Downloading brickops-0.3.16-py3-none-any.whl.metadata (7.6 kB)\n",
    "# Collecting pyyaml>=6.0.2 (from brickops==0.3.16)\n",
    "#   Downloading PyYAML-6.0.2-cp311-cp311-manylinux_2_17_x86_64.manylinux2014_x86_64.whl.metadata (2.1 kB)\n",
    "# Collecting requests>=2.32.3 (from brickops==0.3.16)\n",
    "#   Downloading requests-2.32.3-py3-none-any.whl.metadata (4.6 kB)\n",
    "# Requirement already satisfied: charset-normalizer<4,>=2 in /databricks/python3/lib/python3.11/site-packages (from requests>=2.32.3->brickops==0.3.16) (2.0.4)\n",
    "# Requirement already satisfied: idna<4,>=2.5 in /databricks/python3/lib/python3.11/site-packages (from requests>=2.32.3->brickops==0.3.16) (3.4)\n",
    "# Requirement already satisfied: urllib3<3,>=1.21.1 in /local_disk0/.ephemeral_nfs/envs/pythonEnv-87b3d706-cbfa-4b1c-bd8c-e065b8719bbf/lib/python3.11/site-packages (from requests>=2.32.3->brickops==0.3.16) (2.0.7)\n",
    "# Requirement already satisfied: certifi>=2017.4.17 in /databricks/python3/lib/python3.11/site-packages (from requests>=2.32.3->brickops==0.3.16) (2023.7.22)\n",
    "# Downloading brickops-0.3.16-py3-none-any.whl (28 kB)\n",
    "# Downloading PyYAML-6.0.2-cp311-cp311-manylinux_2_17_x86_64.manylinux2014_x86_64.whl (762 kB)\n",
    "#    ━━━━━━━━━━━━━━━━━━━━━━━━━━━━━━━━━━━━━━━━ 0.0/763.0 kB ? eta -:--:--\n",
    "#    ━━━━━━━━━━━━━━━━━━━━━━━━━━━━━━━━━━━━━━━━ 763.0/763.0 kB 49.3 MB/s eta 0:00:00\n",
    "# Downloading requests-2.32.3-py3-none-any.whl (64 kB)\n",
    "# Installing collected packages: requests, pyyaml, brickops\n",
    "#   Attempting uninstall: requests\n",
    "#     Found existing installation: requests 2.31.0\n",
    "#     Not uninstalling requests at /databricks/python3/lib/python3.11/site-packages, outside environment /local_disk0/.ephemeral_nfs/envs/pythonEnv-87b3d706-cbfa-4b1c-bd8c-e065b8719bbf\n",
    "#     Can't uninstall 'requests'. No files were found to uninstall.\n",
    "#   Attempting uninstall: pyyaml\n",
    "#     Found existing installation: PyYAML 6.0\n",
    "#     Not uninstalling pyyaml at /databricks/python3/lib/python3.11/site-packages, outside environment /local_disk0/.ephemeral_nfs/envs/pythonEnv-87b3d706-cbfa-4b1c-bd8c-e065b8719bbf\n",
    "#     Can't uninstall 'PyYAML'. No files were found to uninstall.\n",
    "# Successfully installed brickops-0.3.16 pyyaml-6.0.2 requests-2.32.3\n",
    "# Note: you may need to restart the kernel using %restart_python or dbutils.library.restartPython() to use updated packages.\n",
    "# ``````"
   ]
  },
  {
   "cell_type": "code",
   "execution_count": 0,
   "metadata": {
    "application/vnd.databricks.v1+cell": {
     "cellMetadata": {
      "byteLimit": 2048000,
      "rowLimit": 10000
     },
     "inputWidgets": {},
     "nuid": "eb025a60-1bab-4ce1-8f65-0b001bd331dc",
     "showTitle": false,
     "tableResultSettingsMap": {},
     "title": ""
    }
   },
   "outputs": [],
   "source": [
    "# Brickbots used for dataops and naming\n",
    "%pip install brickops=0.3.16"
   ]
  },
  {
   "cell_type": "code",
   "execution_count": 0,
   "metadata": {
    "application/vnd.databricks.v1+cell": {
     "cellMetadata": {},
     "inputWidgets": {},
     "nuid": "fea31811-4796-4165-8902-9a19904116c5",
     "showTitle": false,
     "tableResultSettingsMap": {},
     "title": ""
    }
   },
   "outputs": [],
   "source": [
    "dbutils.library.restartPython()"
   ]
  },
  {
   "cell_type": "code",
   "execution_count": 0,
   "metadata": {
    "application/vnd.databricks.v1+cell": {
     "cellMetadata": {},
     "inputWidgets": {},
     "nuid": "b610b80f-956e-4314-adab-4d06a9c29d35",
     "showTitle": false,
     "tableResultSettingsMap": {},
     "title": ""
    }
   },
   "outputs": [],
   "source": [
    "# Enable live reloading of libs, not needed now\n",
    "%load_ext autoreload\n",
    "%autoreload 2"
   ]
  },
  {
   "cell_type": "code",
   "execution_count": 0,
   "metadata": {
    "application/vnd.databricks.v1+cell": {
     "cellMetadata": {},
     "inputWidgets": {},
     "nuid": "494eed42-80a4-4275-9ac5-acd44a2f2aee",
     "showTitle": false,
     "tableResultSettingsMap": {},
     "title": ""
    }
   },
   "outputs": [],
   "source": [
    "import mlflow # works\n",
    "# Not working # from databricks import mlflow\n",
    "import os"
   ]
  },
  {
   "cell_type": "code",
   "execution_count": 0,
   "metadata": {
    "application/vnd.databricks.v1+cell": {
     "cellMetadata": {
      "byteLimit": 2048000,
      "rowLimit": 10000
     },
     "inputWidgets": {},
     "nuid": "f672da89-7f8a-429e-b377-2219e4f63089",
     "showTitle": false,
     "tableResultSettingsMap": {},
     "title": ""
    }
   },
   "outputs": [],
   "source": [
    "# Get databricks host\n",
    "BOTOPS_DATABRICKS_URL = dbutils.notebook.entry_point.getDbutils().notebook().getContext().apiUrl().get()\n",
    "BOTOPSGENIE_DATABRICKS_HOST = BOTOPS_DATABRICKS_URL[8:]  # chop off https://"
   ]
  },
  {
   "cell_type": "code",
   "execution_count": 0,
   "metadata": {
    "application/vnd.databricks.v1+cell": {
     "cellMetadata": {},
     "inputWidgets": {},
     "nuid": "36d906f9-8678-4588-9078-998762aee5cd",
     "showTitle": false,
     "tableResultSettingsMap": {},
     "title": ""
    }
   },
   "outputs": [],
   "source": [
    "# Setup credentials used to access genie space in bot\n",
    "#\n",
    "# Set secret_scope_name and secret_key_name to access your Genie space\n",
    "# We need the env vars to pass the values to the bot for deployment.\n",
    "\n",
    "secret_scope_name = \"botops\"\n",
    "os.environ[\"BOTOPSGENIE_SERVICE_PRINCIPAL_ID\"] = dbutils.secrets.get(\n",
    "    scope=secret_scope_name, key=\"botopsgenie_service_principal_id\"\n",
    ")\n",
    "assert os.environ[\"BOTOPSGENIE_SERVICE_PRINCIPAL_ID\"] is not None, (\n",
    "    \"The BOTOPSGENIE_SERVICE_PRINCIPAL_ID was not properly set\"\n",
    ")\n",
    "\n",
    "os.environ[\"BOTOPSGENIE_SERVICE_PRINCIPAL_SECRET\"] = dbutils.secrets.get(\n",
    "    scope=secret_scope_name, key=\"botopsgenie_service_secret\"\n",
    ")\n",
    "assert os.environ[\"BOTOPSGENIE_SERVICE_PRINCIPAL_SECRET\"] is not None, (\n",
    "    \"The BOTOPSGENIE_SERVICE_PRINCIPAL_SECRET was not properly set\"\n",
    ")\n",
    "\n",
    "os.environ[\"BOTOPSGENIE_SPACE_ID\"] = dbutils.secrets.get(\n",
    "    scope=secret_scope_name, key=\"botopsgenie_geniespace_id\"\n",
    ")\n",
    "assert os.environ[\"BOTOPSGENIE_SPACE_ID\"] is not None, (\n",
    "    \"The BOTOPSGENIE_SPACE_ID was not properly set\"\n",
    ")\n",
    "\n",
    "os.environ[\"BOTOPSGENIE_DATABRICKS_HOST\"] = BOTOPSGENIE_DATABRICKS_HOST\n",
    "assert os.environ[\"BOTOPSGENIE_DATABRICKS_HOST\"] is not None, (\n",
    "    \"The BOTOPSGENIE_DATABRICKS_HOST was not properly set\"\n",
    ")\n"
   ]
  },
  {
   "cell_type": "code",
   "execution_count": 0,
   "metadata": {
    "application/vnd.databricks.v1+cell": {
     "cellMetadata": {},
     "inputWidgets": {},
     "nuid": "b5a75c87-e495-4b2b-ac11-c262152f32e9",
     "showTitle": false,
     "tableResultSettingsMap": {},
     "title": ""
    }
   },
   "outputs": [],
   "source": [
    "# Used by agents.deploy()\n",
    "BOTOPS_ENV_VARS = {\n",
    "    \"BOTOPSGENIE_SERVICE_PRINCIPAL_ID\": os.environ[\"BOTOPSGENIE_SERVICE_PRINCIPAL_ID\"],\n",
    "    \"BOTOPSGENIE_SERVICE_PRINCIPAL_SECRET\": os.environ[\"BOTOPSGENIE_SERVICE_PRINCIPAL_SECRET\"],\n",
    "    \"BOTOPSGENIE_SPACE_ID\": os.environ[\"BOTOPSGENIE_SPACE_ID\"],\n",
    "    \"BOTOPSGENIE_DATABRICKS_HOST\": os.environ[\"BOTOPSGENIE_DATABRICKS_HOST\"],\n",
    "}"
   ]
  },
  {
   "cell_type": "code",
   "execution_count": 0,
   "metadata": {
    "application/vnd.databricks.v1+cell": {
     "cellMetadata": {},
     "inputWidgets": {},
     "nuid": "661d247d-d862-489a-9937-9c33a72589d2",
     "showTitle": false,
     "tableResultSettingsMap": {},
     "title": ""
    }
   },
   "outputs": [],
   "source": [
    "def folder():\n",
    "    import os\n",
    "    return os.path.basename(os.getcwd())"
   ]
  }
 ],
 "metadata": {
  "application/vnd.databricks.v1+notebook": {
   "computePreferences": null,
   "dashboards": [],
   "environmentMetadata": {
    "base_environment": "",
    "environment_version": "2"
   },
   "inputWidgetPreferences": null,
   "language": "python",
   "notebookMetadata": {
    "pythonIndentUnit": 4
   },
   "notebookName": "buildsetup_serverless",
   "widgets": {}
  },
  "language_info": {
   "name": "python"
  }
 },
 "nbformat": 4,
 "nbformat_minor": 0
}
