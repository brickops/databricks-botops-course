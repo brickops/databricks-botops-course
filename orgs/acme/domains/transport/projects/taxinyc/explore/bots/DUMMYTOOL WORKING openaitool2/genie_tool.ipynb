{
 "cells": [
  {
   "cell_type": "markdown",
   "metadata": {
    "application/vnd.databricks.v1+cell": {
     "cellMetadata": {},
     "inputWidgets": {},
     "nuid": "bd29538f-04bc-4f93-9e54-83ac820a22ac",
     "showTitle": false,
     "tableResultSettingsMap": {},
     "title": ""
    }
   },
   "source": [
    "# Create genie tool"
   ]
  },
  {
   "cell_type": "code",
   "execution_count": 0,
   "metadata": {
    "application/vnd.databricks.v1+cell": {
     "cellMetadata": {
      "byteLimit": 2048000,
      "rowLimit": 10000
     },
     "inputWidgets": {},
     "nuid": "06da2273-749c-48cb-9506-0e1cf9b9403b",
     "showTitle": false,
     "tableResultSettingsMap": {},
     "title": ""
    }
   },
   "outputs": [],
   "source": [
    "%pip install -U -qqqq mlflow backoff databricks-openai databricks-agents uv\n",
    "dbutils.library.restartPython()"
   ]
  },
  {
   "cell_type": "code",
   "execution_count": 0,
   "metadata": {
    "application/vnd.databricks.v1+cell": {
     "cellMetadata": {
      "byteLimit": 2048000,
      "rowLimit": 10000
     },
     "inputWidgets": {},
     "nuid": "710981c1-12be-4168-a9ef-26df12861dbc",
     "showTitle": false,
     "tableResultSettingsMap": {},
     "title": ""
    }
   },
   "outputs": [],
   "source": [
    "from unitycatalog.ai.core.databricks import DatabricksFunctionClient\n",
    "client = DatabricksFunctionClient()\n",
    "\n",
    "\n",
    "catalog = \"training\"\n",
    "schema = \"testagents\"\n",
    "# UC_MODEL_NAME = f\"{catalog}.{schema}.{model_name}\"\n",
    "\n",
    "# GENIE_SPACE_ID = \"01efed0b36a81d6d9d47ec959434617c\"\n",
    "# genie_agent_description = \"This agent can answer questions about taxi trips\"\n",
    "\n",
    "# genie_agent = GenieAgent(\n",
    "#     genie_space_id=GENIE_SPACE_ID,\n",
    "#     genie_agent_name=\"Genie\",\n",
    "#     description=genie_agent_description,\n",
    "#     # DB_MODEL_SERVING_HOST_URL is set on an agent endpoints but doesn't exist in the notebook\n",
    "#     client=WorkspaceClient(\n",
    "#         host=os.getenv(\"DATABRICKS_HOST\") or os.getenv(\"DB_MODEL_SERVING_HOST_URL\"),\n",
    "#         token=os.getenv(\"DATABRICKS_GENIE_PAT\"),\n",
    "#     ),\n",
    "# )\n",
    "\n",
    "\n",
    "def taxinycgenietool2(question: str) -> str:\n",
    "  \"\"\"\n",
    "  This agent can answer questions about taxi trips\n",
    "\n",
    "  Args:\n",
    "      question (str): The question to answer.\n",
    "\n",
    "  Returns:\n",
    "      str: The answer to the question\n",
    "  \"\"\"\n",
    "  return \"Dummy genie answer\"\n",
    "\n",
    "function_info = client.create_python_function(\n",
    "  func=taxinycgenietool2,\n",
    "  catalog=catalog,\n",
    "  schema=schema,\n",
    ")\n"
   ]
  },
  {
   "cell_type": "code",
   "execution_count": 0,
   "metadata": {
    "application/vnd.databricks.v1+cell": {
     "cellMetadata": {},
     "inputWidgets": {},
     "nuid": "11444313-8bf8-4d42-9609-898f969e6c4e",
     "showTitle": false,
     "tableResultSettingsMap": {},
     "title": ""
    }
   },
   "outputs": [],
   "source": []
  }
 ],
 "metadata": {
  "application/vnd.databricks.v1+notebook": {
   "computePreferences": null,
   "dashboards": [],
   "environmentMetadata": {
    "base_environment": "",
    "environment_version": "2"
   },
   "inputWidgetPreferences": null,
   "language": "python",
   "notebookMetadata": {
    "pythonIndentUnit": 4
   },
   "notebookName": "genie_tool",
   "widgets": {}
  },
  "language_info": {
   "name": "python"
  }
 },
 "nbformat": 4,
 "nbformat_minor": 0
}
