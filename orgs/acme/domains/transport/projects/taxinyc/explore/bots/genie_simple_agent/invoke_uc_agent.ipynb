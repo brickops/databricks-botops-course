{
 "cells": [
  {
   "cell_type": "code",
   "execution_count": 0,
   "metadata": {
    "application/vnd.databricks.v1+cell": {
     "cellMetadata": {
      "byteLimit": 2048000,
      "rowLimit": 10000
     },
     "inputWidgets": {},
     "nuid": "881de0d7-1a12-415a-abeb-9a516999d5cd",
     "showTitle": false,
     "tableResultSettingsMap": {},
     "title": ""
    }
   },
   "outputs": [],
   "source": [
    "from mlflow import langchain as mlflow_langchain\n",
    "import mlflow\n",
    "\n",
    "MODEL_PATH_NAME = \"training.testagents.realgenieagent3\"\n",
    "MODEL_PATH_NAME = \"training.testagents.realgenieagentpat\"\n",
    "\n",
    "mlflow.set_registry_uri(\"databricks-uc\")\n",
    "latest_model_version = mlflow.search_model_versions(filter_string=f\"name = '{MODEL_PATH_NAME}'\")[0].version\n",
    "\n",
    "model_uri = f'models:/{MODEL_PATH_NAME}/{latest_model_version}'\n",
    "print(f\"Attempting to load model: {model_uri}\")\n",
    "\n",
    "loaded_chain = mlflow_langchain.load_model(model_uri)\n",
    "\n",
    "question = {'query': 'What borough has most traffic?'}\n",
    "answer = loaded_chain.invoke(question)\n",
    "print(answer)"
   ]
  },
  {
   "cell_type": "code",
   "execution_count": 0,
   "metadata": {
    "application/vnd.databricks.v1+cell": {
     "cellMetadata": {
      "byteLimit": 2048000,
      "rowLimit": 10000
     },
     "inputWidgets": {},
     "nuid": "2bcb0df1-ed31-4691-ba6c-141ea9f55b32",
     "showTitle": false,
     "tableResultSettingsMap": {},
     "title": ""
    }
   },
   "outputs": [],
   "source": [
    "run_id = \"567f14bec6bd46bab64864a2a77eeaee\"\n",
    "mlflow.models.predict(\n",
    "    model_uri=f\"runs:/{run_id}/agent\",\n",
    "    input_data={\"messages\": [{\"role\": \"user\", \"content\": \"Which borough has most traffic?\"}]},\n",
    "    env_manager=\"uv\",\n",
    ")"
   ]
  },
  {
   "cell_type": "code",
   "execution_count": 0,
   "metadata": {
    "application/vnd.databricks.v1+cell": {
     "cellMetadata": {},
     "inputWidgets": {},
     "nuid": "db284f35-2f64-4dec-b577-04dd180b3eb1",
     "showTitle": false,
     "tableResultSettingsMap": {},
     "title": ""
    }
   },
   "outputs": [],
   "source": []
  }
 ],
 "metadata": {
  "application/vnd.databricks.v1+notebook": {
   "computePreferences": null,
   "dashboards": [],
   "environmentMetadata": {
    "base_environment": "",
    "environment_version": "2"
   },
   "inputWidgetPreferences": null,
   "language": "python",
   "notebookMetadata": {
    "pythonIndentUnit": 4
   },
   "notebookName": "invoke_uc_agent",
   "widgets": {}
  },
  "language_info": {
   "name": "python"
  }
 },
 "nbformat": 4,
 "nbformat_minor": 0
}
